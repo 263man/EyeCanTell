{
 "cells": [
  {
   "cell_type": "markdown",
   "metadata": {},
   "source": [
    "# Net fusion results analysis\n",
    "The notebook analyzes the results of fusing different models results in different combinations"
   ]
  },
  {
   "cell_type": "markdown",
   "metadata": {},
   "source": [
    "## Libraries loading"
   ]
  },
  {
   "cell_type": "code",
   "execution_count": 1,
   "metadata": {},
   "outputs": [],
   "source": [
    "import os\n",
    "import ntpath\n",
    "import pandas as pd\n",
    "from pathlib import Path\n",
    "import sklearn.metrics as M\n",
    "from sklearn.metrics import log_loss\n",
    "from scipy.special import expit\n",
    "import numpy as np\n",
    "from itertools import combinations\n",
    "import seaborn as sns\n",
    "from tqdm.notebook import tqdm"
   ]
  },
  {
   "cell_type": "markdown",
   "metadata": {},
   "source": [
    "## Parameters"
   ]
  },
  {
   "cell_type": "code",
   "execution_count": 2,
   "metadata": {},
   "outputs": [],
   "source": [
    "results_root = Path('results/')\n",
    "results_model_folder = list(results_root.glob('net-*'))\n",
    "column_list = ['video', 'score', 'label']\n",
    "do_distplot = False"
   ]
  },
  {
   "cell_type": "markdown",
   "metadata": {},
   "source": [
    "## Helper functions"
   ]
  },
  {
   "cell_type": "code",
   "execution_count": 3,
   "metadata": {},
   "outputs": [],
   "source": [
    "def compute_metrics(df_res:pd.DataFrame,train_tag:str) -> dict:\n",
    "    numreal = sum(df_res['label']==False)\n",
    "    numfake = sum(df_res['label']==True\n",
    ")\n",
    "    \n",
    "    netname = train_tag.split('net-')[1].split('_')[0]\n",
    "    traindb = train_tag.split('traindb-')[1].split('_')[0]\n",
    "    \n",
    "    loss = M.log_loss(df_res['label'],expit(df_res['score']))\n",
    "    acc = M.accuracy_score(df_res['label'],df_res['score']>0)\n",
    "    accbal = M.balanced_accuracy_score(df_res['label'],df_res['score']>0)\n",
    "    rocauc = M.roc_auc_score(df_res['label'],df_res['score'])\n",
    "    \n",
    "    res_dict = {'traintag':train_tag,\n",
    "                'net':netname,\n",
    "                'traindb': traindb,\n",
    "                'testdb':testdb,'testsplit':testsplit,\n",
    "                'numreal':numreal,'numfake':numfake,\n",
    "                'loss':loss,\n",
    "                'acc':acc,'accbal':accbal,\n",
    "                'rocauc':rocauc} \n",
    "    return res_dict"
   ]
  },
  {
   "cell_type": "code",
   "execution_count": 4,
   "metadata": {},
   "outputs": [],
   "source": [
    "def highlight_values(s):\n",
    "    '''\n",
    "    highlight the three lowest and highest values in a Series (min: [red, yellow, darkorange], max: [green, lime, aqua]).\n",
    "    '''\n",
    "    s_idx = np.argsort(s.values)\n",
    "    style = [''] * len(s)\n",
    "    style[s_idx[0]] = 'background-color: red'\n",
    "#     style[s_idx[1]] = 'background-color: yellow'\n",
    "#     style[s_idx[2]] = 'background-color: darkorange'\n",
    "    style[s_idx[-1]] = 'background-color: green'\n",
    "#     style[s_idx[-2]] = 'background-color: lime'\n",
    "#     style[s_idx[-3]] = 'background-color: aqua'\n",
    "    return style"
   ]
  },
  {
   "cell_type": "code",
   "execution_count": 5,
   "metadata": {},
   "outputs": [],
   "source": [
    "def get_df(video_all_df, dataset):\n",
    "    selected_df = video_all_df.loc[dataset].unstack(['model'])['score']\n",
    "    models = selected_df.columns\n",
    "    selected_df['label'] = video_all_df.loc[dataset].unstack(['model'])['label'].mean(axis=1)\n",
    "    mapper = dict()\n",
    "    for model in models:\n",
    "        mapper[model] = model.split('net-')[1].split('_traindb')[0]\n",
    "    selected_df = selected_df.rename(mapper, axis=1)\n",
    "    return selected_df"
   ]
  },
  {
   "cell_type": "markdown",
   "metadata": {},
   "source": [
    "## Load data"
   ]
  },
  {
   "cell_type": "code",
   "execution_count": 6,
   "metadata": {},
   "outputs": [
    {
     "data": {
      "application/vnd.jupyter.widget-view+json": {
       "model_id": "b007b472a0d6480f9930f3e59f79897f",
       "version_major": 2,
       "version_minor": 0
      },
      "text/plain": [
       "HBox(children=(FloatProgress(value=0.0, max=14.0), HTML(value='')))"
      ]
     },
     "metadata": {},
     "output_type": "display_data"
    },
    {
     "name": "stdout",
     "output_type": "stream",
     "text": [
      "\n"
     ]
    }
   ],
   "source": [
    "# Load data in multi-index dataframe\n",
    "if os.path.exists('data_frame_df.pkl'):\n",
    "    data_frame_df = pd.read_pickle('data_frame_df.pkl')\n",
    "    model_list = []\n",
    "    for model_folder in tqdm(results_model_folder):\n",
    "        dataset_list = []\n",
    "        train_model_tag = model_folder.name\n",
    "        model_results = model_folder.glob('*.pkl')\n",
    "        for model_path in model_results:\n",
    "            dataset_tag = os.path.splitext(ntpath.split(model_path)[1])[0]\n",
    "            dataset_list.append(dataset_tag)\n",
    "        model_list.append(train_model_tag)\n",
    "else:\n",
    "    data_model_list = []\n",
    "    model_list = []\n",
    "    for model_folder in tqdm(results_model_folder):\n",
    "        data_dataset_list = []\n",
    "        dataset_list = []\n",
    "        train_model_tag = model_folder.name\n",
    "        model_results = model_folder.glob('*.pkl')\n",
    "        for model_path in model_results:\n",
    "            netname = train_model_tag.split('net-')[1].split('_')[0]\n",
    "            traindb = train_model_tag.split('traindb-')[1].split('_')[0]\n",
    "            testdb, testsplit = model_path.with_suffix('').name.rsplit('_',1)\n",
    "            dataset_tag = os.path.splitext(ntpath.split(model_path)[1])[0]\n",
    "            df_frames = pd.read_pickle(model_path)[column_list]\n",
    "            # Add info on training and test datasets\n",
    "            df_frames['netname'] = netname\n",
    "            df_frames['train_db'] = traindb\n",
    "            df_frames['test_db'] = testdb\n",
    "            df_frames['test_split'] = testsplit\n",
    "            data_dataset_list.append(df_frames)\n",
    "            dataset_list.append(dataset_tag)\n",
    "        data_model_list.append(pd.concat(data_dataset_list, keys=dataset_list, names=['dataset']))\n",
    "        model_list.append(train_model_tag)\n",
    "    data_frame_df = pd.concat(data_model_list, keys=model_list, names=['model']).swaplevel(0, 1)\n",
    "    data_frame_df.to_pickle('data_frame_df.pkl')"
   ]
  },
  {
   "cell_type": "markdown",
   "metadata": {},
   "source": [
    "### Remove cross-test"
   ]
  },
  {
   "cell_type": "code",
   "execution_count": 7,
   "metadata": {},
   "outputs": [],
   "source": [
    "idx_same_train_test = data_frame_df['train_db'] == data_frame_df['test_db']\n",
    "data_frame_df = data_frame_df.loc[idx_same_train_test]"
   ]
  },
  {
   "cell_type": "markdown",
   "metadata": {},
   "source": [
    "### Eliminate Xception experiments, consider only test sets"
   ]
  },
  {
   "cell_type": "code",
   "execution_count": 8,
   "metadata": {},
   "outputs": [
    {
     "name": "stdout",
     "output_type": "stream",
     "text": [
      "Datasets considered are ['ff-c23-720-140-140_test', 'dfdc-35-5-10_test']\n",
      "Models considered are ['EfficientNetB4' 'EfficientNetB4ST' 'EfficientNetAutoAttB4'\n",
      " 'EfficientNetAutoAttB4ST']\n"
     ]
    }
   ],
   "source": [
    "data_frame_df = data_frame_df[data_frame_df['test_split']=='test']\n",
    "dataset_list = [x for x in dataset_list if \"_val\" not in x]\n",
    "print('Datasets considered are {}'.format(dataset_list))\n",
    "model_selection_list = ['EfficientNetB4', 'EfficientNetAutoAttB4', 'EfficientNetB4ST', 'EfficientNetAutoAttB4ST']\n",
    "xception_df = data_frame_df[data_frame_df['netname'].isin(['Xception'])]\n",
    "data_frame_df = data_frame_df[data_frame_df['netname'].isin(model_selection_list)]\n",
    "model_list = data_frame_df.index.get_level_values(1).unique()\n",
    "print('Models considered are {}'.format(data_frame_df['netname'].unique()))"
   ]
  },
  {
   "cell_type": "code",
   "execution_count": 9,
   "metadata": {},
   "outputs": [
    {
     "data": {
      "text/html": [
       "<div>\n",
       "<style scoped>\n",
       "    .dataframe tbody tr th:only-of-type {\n",
       "        vertical-align: middle;\n",
       "    }\n",
       "\n",
       "    .dataframe tbody tr th {\n",
       "        vertical-align: top;\n",
       "    }\n",
       "\n",
       "    .dataframe thead th {\n",
       "        text-align: right;\n",
       "    }\n",
       "</style>\n",
       "<table border=\"1\" class=\"dataframe\">\n",
       "  <thead>\n",
       "    <tr style=\"text-align: right;\">\n",
       "      <th>model</th>\n",
       "      <th>EfficientNetB4</th>\n",
       "      <th>EfficientNetAutoAttB4</th>\n",
       "      <th>EfficientNetB4ST</th>\n",
       "      <th>EfficientNetAutoAttB4ST</th>\n",
       "      <th>label</th>\n",
       "    </tr>\n",
       "    <tr>\n",
       "      <th>facepath</th>\n",
       "      <th></th>\n",
       "      <th></th>\n",
       "      <th></th>\n",
       "      <th></th>\n",
       "      <th></th>\n",
       "    </tr>\n",
       "  </thead>\n",
       "  <tbody>\n",
       "    <tr>\n",
       "      <th>manipulated_sequences/Deepfakes/c23/videos/134_192.mp4/fr000_subj0.jpg</th>\n",
       "      <td>3.556629</td>\n",
       "      <td>2.511272</td>\n",
       "      <td>4.454069</td>\n",
       "      <td>2.287596</td>\n",
       "      <td>1.0</td>\n",
       "    </tr>\n",
       "    <tr>\n",
       "      <th>manipulated_sequences/Deepfakes/c23/videos/134_192.mp4/fr011_subj0.jpg</th>\n",
       "      <td>1.067607</td>\n",
       "      <td>2.500407</td>\n",
       "      <td>2.501974</td>\n",
       "      <td>2.555063</td>\n",
       "      <td>1.0</td>\n",
       "    </tr>\n",
       "    <tr>\n",
       "      <th>manipulated_sequences/Deepfakes/c23/videos/134_192.mp4/fr022_subj0.jpg</th>\n",
       "      <td>3.871128</td>\n",
       "      <td>2.542755</td>\n",
       "      <td>3.286209</td>\n",
       "      <td>0.071610</td>\n",
       "      <td>1.0</td>\n",
       "    </tr>\n",
       "    <tr>\n",
       "      <th>manipulated_sequences/Deepfakes/c23/videos/134_192.mp4/fr033_subj0.jpg</th>\n",
       "      <td>3.076689</td>\n",
       "      <td>0.523431</td>\n",
       "      <td>2.611871</td>\n",
       "      <td>1.800935</td>\n",
       "      <td>1.0</td>\n",
       "    </tr>\n",
       "    <tr>\n",
       "      <th>manipulated_sequences/Deepfakes/c23/videos/134_192.mp4/fr044_subj0.jpg</th>\n",
       "      <td>4.006863</td>\n",
       "      <td>2.457613</td>\n",
       "      <td>2.905638</td>\n",
       "      <td>2.350150</td>\n",
       "      <td>1.0</td>\n",
       "    </tr>\n",
       "  </tbody>\n",
       "</table>\n",
       "</div>"
      ],
      "text/plain": [
       "model                                               EfficientNetB4  \\\n",
       "facepath                                                             \n",
       "manipulated_sequences/Deepfakes/c23/videos/134_...        3.556629   \n",
       "manipulated_sequences/Deepfakes/c23/videos/134_...        1.067607   \n",
       "manipulated_sequences/Deepfakes/c23/videos/134_...        3.871128   \n",
       "manipulated_sequences/Deepfakes/c23/videos/134_...        3.076689   \n",
       "manipulated_sequences/Deepfakes/c23/videos/134_...        4.006863   \n",
       "\n",
       "model                                               EfficientNetAutoAttB4  \\\n",
       "facepath                                                                    \n",
       "manipulated_sequences/Deepfakes/c23/videos/134_...               2.511272   \n",
       "manipulated_sequences/Deepfakes/c23/videos/134_...               2.500407   \n",
       "manipulated_sequences/Deepfakes/c23/videos/134_...               2.542755   \n",
       "manipulated_sequences/Deepfakes/c23/videos/134_...               0.523431   \n",
       "manipulated_sequences/Deepfakes/c23/videos/134_...               2.457613   \n",
       "\n",
       "model                                               EfficientNetB4ST  \\\n",
       "facepath                                                               \n",
       "manipulated_sequences/Deepfakes/c23/videos/134_...          4.454069   \n",
       "manipulated_sequences/Deepfakes/c23/videos/134_...          2.501974   \n",
       "manipulated_sequences/Deepfakes/c23/videos/134_...          3.286209   \n",
       "manipulated_sequences/Deepfakes/c23/videos/134_...          2.611871   \n",
       "manipulated_sequences/Deepfakes/c23/videos/134_...          2.905638   \n",
       "\n",
       "model                                               EfficientNetAutoAttB4ST  \\\n",
       "facepath                                                                      \n",
       "manipulated_sequences/Deepfakes/c23/videos/134_...                 2.287596   \n",
       "manipulated_sequences/Deepfakes/c23/videos/134_...                 2.555063   \n",
       "manipulated_sequences/Deepfakes/c23/videos/134_...                 0.071610   \n",
       "manipulated_sequences/Deepfakes/c23/videos/134_...                 1.800935   \n",
       "manipulated_sequences/Deepfakes/c23/videos/134_...                 2.350150   \n",
       "\n",
       "model                                               label  \n",
       "facepath                                                   \n",
       "manipulated_sequences/Deepfakes/c23/videos/134_...    1.0  \n",
       "manipulated_sequences/Deepfakes/c23/videos/134_...    1.0  \n",
       "manipulated_sequences/Deepfakes/c23/videos/134_...    1.0  \n",
       "manipulated_sequences/Deepfakes/c23/videos/134_...    1.0  \n",
       "manipulated_sequences/Deepfakes/c23/videos/134_...    1.0  "
      ]
     },
     "execution_count": 9,
     "metadata": {},
     "output_type": "execute_result"
    }
   ],
   "source": [
    "selected_df = get_df(data_frame_df, dataset='ff-c23-720-140-140_test')\n",
    "selected_df.head()"
   ]
  },
  {
   "cell_type": "markdown",
   "metadata": {},
   "source": [
    "## Xception"
   ]
  },
  {
   "cell_type": "code",
   "execution_count": 10,
   "metadata": {},
   "outputs": [],
   "source": [
    "net_list = ['Xception']\n",
    "comb_list = list(combinations(net_list, 1))\n",
    "iterables = [dataset_list, ['loss', 'auc']]\n",
    "index = pd.MultiIndex.from_product(iterables, names=['dataset', 'metric'])\n",
    "results_x_df = pd.DataFrame(index=index, columns=comb_list)"
   ]
  },
  {
   "cell_type": "code",
   "execution_count": 11,
   "metadata": {},
   "outputs": [
    {
     "name": "stdout",
     "output_type": "stream",
     "text": [
      "ff-c23-720-140-140_test\n"
     ]
    },
    {
     "data": {
      "application/vnd.jupyter.widget-view+json": {
       "model_id": "3dc70453624646038cb936115253c354",
       "version_major": 2,
       "version_minor": 0
      },
      "text/plain": [
       "HBox(children=(FloatProgress(value=0.0, max=1.0), HTML(value='')))"
      ]
     },
     "metadata": {},
     "output_type": "display_data"
    },
    {
     "name": "stdout",
     "output_type": "stream",
     "text": [
      "\n",
      "dfdc-35-5-10_test\n"
     ]
    },
    {
     "data": {
      "application/vnd.jupyter.widget-view+json": {
       "model_id": "f42d95fbb0d84fc79481b55efbce7f64",
       "version_major": 2,
       "version_minor": 0
      },
      "text/plain": [
       "HBox(children=(FloatProgress(value=0.0, max=1.0), HTML(value='')))"
      ]
     },
     "metadata": {},
     "output_type": "display_data"
    },
    {
     "name": "stdout",
     "output_type": "stream",
     "text": [
      "\n"
     ]
    }
   ],
   "source": [
    "for dataset in dataset_list:\n",
    "    print(dataset)\n",
    "    for model_comb in tqdm(comb_list):\n",
    "        df = get_df(xception_df, dataset)\n",
    "        results_x_df[model_comb][dataset, 'loss'] = log_loss(df['label'], expit(np.mean(df[list(model_comb)],\n",
    "                                                                                      axis=1)))\n",
    "        results_x_df[model_comb][dataset, 'auc'] = M.roc_auc_score(df['label'], expit(np.mean(df[list(model_comb)],\n",
    "                                                                                            axis=1)))"
   ]
  },
  {
   "cell_type": "code",
   "execution_count": 16,
   "metadata": {},
   "outputs": [
    {
     "data": {
      "text/html": [
       "<div>\n",
       "<style scoped>\n",
       "    .dataframe tbody tr th:only-of-type {\n",
       "        vertical-align: middle;\n",
       "    }\n",
       "\n",
       "    .dataframe tbody tr th {\n",
       "        vertical-align: top;\n",
       "    }\n",
       "\n",
       "    .dataframe thead tr th {\n",
       "        text-align: left;\n",
       "    }\n",
       "</style>\n",
       "<table border=\"1\" class=\"dataframe\">\n",
       "  <thead>\n",
       "    <tr>\n",
       "      <th>dataset</th>\n",
       "      <th colspan=\"2\" halign=\"left\">ff-c23-720-140-140_test</th>\n",
       "      <th colspan=\"2\" halign=\"left\">dfdc-35-5-10_test</th>\n",
       "    </tr>\n",
       "    <tr>\n",
       "      <th>metric</th>\n",
       "      <th>loss</th>\n",
       "      <th>auc</th>\n",
       "      <th>loss</th>\n",
       "      <th>auc</th>\n",
       "    </tr>\n",
       "  </thead>\n",
       "  <tbody>\n",
       "    <tr>\n",
       "      <th>(Xception,)</th>\n",
       "      <td>0.384439</td>\n",
       "      <td>0.927267</td>\n",
       "      <td>0.489655</td>\n",
       "      <td>0.878355</td>\n",
       "    </tr>\n",
       "  </tbody>\n",
       "</table>\n",
       "</div>"
      ],
      "text/plain": [
       "dataset     ff-c23-720-140-140_test           dfdc-35-5-10_test          \n",
       "metric                         loss       auc              loss       auc\n",
       "(Xception,)                0.384439  0.927267          0.489655  0.878355"
      ]
     },
     "execution_count": 16,
     "metadata": {},
     "output_type": "execute_result"
    }
   ],
   "source": [
    "results_x_df.T#.style.apply(highlight_values)"
   ]
  },
  {
   "cell_type": "markdown",
   "metadata": {},
   "source": [
    "## Combinations"
   ]
  },
  {
   "cell_type": "code",
   "execution_count": 13,
   "metadata": {},
   "outputs": [],
   "source": [
    "net_list = list(data_frame_df['netname'].unique())\n",
    "comb_list_1 = list(combinations(net_list, 1))\n",
    "comb_list_2 = list(combinations(net_list, 2))\n",
    "comb_list_3 = list(combinations(net_list, 3))\n",
    "comb_list_4 = list(combinations(net_list, 4))\n",
    "comb_list = comb_list_1 + comb_list_2 + comb_list_3 + comb_list_4\n",
    "iterables = [dataset_list, ['loss', 'auc']]\n",
    "index = pd.MultiIndex.from_product(iterables, names=['dataset', 'metric'])\n",
    "results_df = pd.DataFrame(index=index, columns=comb_list)"
   ]
  },
  {
   "cell_type": "code",
   "execution_count": 14,
   "metadata": {},
   "outputs": [
    {
     "name": "stdout",
     "output_type": "stream",
     "text": [
      "ff-c23-720-140-140_test\n"
     ]
    },
    {
     "data": {
      "application/vnd.jupyter.widget-view+json": {
       "model_id": "159925f8e3b841a29447ade4f774b293",
       "version_major": 2,
       "version_minor": 0
      },
      "text/plain": [
       "HBox(children=(FloatProgress(value=0.0, max=15.0), HTML(value='')))"
      ]
     },
     "metadata": {},
     "output_type": "display_data"
    },
    {
     "name": "stdout",
     "output_type": "stream",
     "text": [
      "\n",
      "dfdc-35-5-10_test\n"
     ]
    },
    {
     "data": {
      "application/vnd.jupyter.widget-view+json": {
       "model_id": "a4490e2be8b748c2b0619d0911f1a997",
       "version_major": 2,
       "version_minor": 0
      },
      "text/plain": [
       "HBox(children=(FloatProgress(value=0.0, max=15.0), HTML(value='')))"
      ]
     },
     "metadata": {},
     "output_type": "display_data"
    },
    {
     "name": "stdout",
     "output_type": "stream",
     "text": [
      "\n"
     ]
    }
   ],
   "source": [
    "for dataset in dataset_list:\n",
    "    print(dataset)\n",
    "    for model_comb in tqdm(comb_list):\n",
    "        df = get_df(data_frame_df, dataset)\n",
    "        results_df[model_comb][dataset, 'loss'] = log_loss(df['label'], expit(np.mean(df[list(model_comb)],\n",
    "                                                                                      axis=1)))\n",
    "        results_df[model_comb][dataset, 'auc'] = M.roc_auc_score(df['label'], expit(np.mean(df[list(model_comb)],\n",
    "                                                                                            axis=1)))"
   ]
  },
  {
   "cell_type": "code",
   "execution_count": 15,
   "metadata": {},
   "outputs": [
    {
     "data": {
      "text/html": [
       "<style  type=\"text/css\" >\n",
       "    #T_aac71578_7cb0_11ea_b680_b9159917ceafrow2_col0 {\n",
       "            background-color:  green;\n",
       "        }    #T_aac71578_7cb0_11ea_b680_b9159917ceafrow3_col1 {\n",
       "            background-color:  red;\n",
       "        }    #T_aac71578_7cb0_11ea_b680_b9159917ceafrow3_col2 {\n",
       "            background-color:  green;\n",
       "        }    #T_aac71578_7cb0_11ea_b680_b9159917ceafrow3_col3 {\n",
       "            background-color:  red;\n",
       "        }    #T_aac71578_7cb0_11ea_b680_b9159917ceafrow10_col2 {\n",
       "            background-color:  red;\n",
       "        }    #T_aac71578_7cb0_11ea_b680_b9159917ceafrow10_col3 {\n",
       "            background-color:  green;\n",
       "        }    #T_aac71578_7cb0_11ea_b680_b9159917ceafrow11_col0 {\n",
       "            background-color:  red;\n",
       "        }    #T_aac71578_7cb0_11ea_b680_b9159917ceafrow14_col1 {\n",
       "            background-color:  green;\n",
       "        }</style><table id=\"T_aac71578_7cb0_11ea_b680_b9159917ceaf\" ><thead>    <tr>        <th class=\"index_name level0\" >dataset</th>        <th class=\"col_heading level0 col0\" colspan=2>ff-c23-720-140-140_test</th>        <th class=\"col_heading level0 col2\" colspan=2>dfdc-35-5-10_test</th>    </tr>    <tr>        <th class=\"index_name level1\" >metric</th>        <th class=\"col_heading level1 col0\" >loss</th>        <th class=\"col_heading level1 col1\" >auc</th>        <th class=\"col_heading level1 col2\" >loss</th>        <th class=\"col_heading level1 col3\" >auc</th>    </tr></thead><tbody>\n",
       "                <tr>\n",
       "                        <th id=\"T_aac71578_7cb0_11ea_b680_b9159917ceaflevel0_row0\" class=\"row_heading level0 row0\" >('EfficientNetB4',)</th>\n",
       "                        <td id=\"T_aac71578_7cb0_11ea_b680_b9159917ceafrow0_col0\" class=\"data row0 col0\" >0.377651</td>\n",
       "                        <td id=\"T_aac71578_7cb0_11ea_b680_b9159917ceafrow0_col1\" class=\"data row0 col1\" >0.938183</td>\n",
       "                        <td id=\"T_aac71578_7cb0_11ea_b680_b9159917ceafrow0_col2\" class=\"data row0 col2\" >0.481881</td>\n",
       "                        <td id=\"T_aac71578_7cb0_11ea_b680_b9159917ceafrow0_col3\" class=\"data row0 col3\" >0.876618</td>\n",
       "            </tr>\n",
       "            <tr>\n",
       "                        <th id=\"T_aac71578_7cb0_11ea_b680_b9159917ceaflevel0_row1\" class=\"row_heading level0 row1\" >('EfficientNetB4ST',)</th>\n",
       "                        <td id=\"T_aac71578_7cb0_11ea_b680_b9159917ceafrow1_col0\" class=\"data row1 col0\" >0.343862</td>\n",
       "                        <td id=\"T_aac71578_7cb0_11ea_b680_b9159917ceafrow1_col1\" class=\"data row1 col1\" >0.933726</td>\n",
       "                        <td id=\"T_aac71578_7cb0_11ea_b680_b9159917ceafrow1_col2\" class=\"data row1 col2\" >0.507456</td>\n",
       "                        <td id=\"T_aac71578_7cb0_11ea_b680_b9159917ceafrow1_col3\" class=\"data row1 col3\" >0.865811</td>\n",
       "            </tr>\n",
       "            <tr>\n",
       "                        <th id=\"T_aac71578_7cb0_11ea_b680_b9159917ceaflevel0_row2\" class=\"row_heading level0 row2\" >('EfficientNetAutoAttB4',)</th>\n",
       "                        <td id=\"T_aac71578_7cb0_11ea_b680_b9159917ceafrow2_col0\" class=\"data row2 col0\" >0.387293</td>\n",
       "                        <td id=\"T_aac71578_7cb0_11ea_b680_b9159917ceafrow2_col1\" class=\"data row2 col1\" >0.935964</td>\n",
       "                        <td id=\"T_aac71578_7cb0_11ea_b680_b9159917ceafrow2_col2\" class=\"data row2 col2\" >0.513278</td>\n",
       "                        <td id=\"T_aac71578_7cb0_11ea_b680_b9159917ceafrow2_col3\" class=\"data row2 col3\" >0.864194</td>\n",
       "            </tr>\n",
       "            <tr>\n",
       "                        <th id=\"T_aac71578_7cb0_11ea_b680_b9159917ceaflevel0_row3\" class=\"row_heading level0 row3\" >('EfficientNetAutoAttB4ST',)</th>\n",
       "                        <td id=\"T_aac71578_7cb0_11ea_b680_b9159917ceafrow3_col0\" class=\"data row3 col0\" >0.359685</td>\n",
       "                        <td id=\"T_aac71578_7cb0_11ea_b680_b9159917ceafrow3_col1\" class=\"data row3 col1\" >0.929297</td>\n",
       "                        <td id=\"T_aac71578_7cb0_11ea_b680_b9159917ceafrow3_col2\" class=\"data row3 col2\" >0.550746</td>\n",
       "                        <td id=\"T_aac71578_7cb0_11ea_b680_b9159917ceafrow3_col3\" class=\"data row3 col3\" >0.836012</td>\n",
       "            </tr>\n",
       "            <tr>\n",
       "                        <th id=\"T_aac71578_7cb0_11ea_b680_b9159917ceaflevel0_row4\" class=\"row_heading level0 row4\" >('EfficientNetB4', 'EfficientNetB4ST')</th>\n",
       "                        <td id=\"T_aac71578_7cb0_11ea_b680_b9159917ceafrow4_col0\" class=\"data row4 col0\" >0.341059</td>\n",
       "                        <td id=\"T_aac71578_7cb0_11ea_b680_b9159917ceafrow4_col1\" class=\"data row4 col1\" >0.941274</td>\n",
       "                        <td id=\"T_aac71578_7cb0_11ea_b680_b9159917ceafrow4_col2\" class=\"data row4 col2\" >0.468704</td>\n",
       "                        <td id=\"T_aac71578_7cb0_11ea_b680_b9159917ceafrow4_col3\" class=\"data row4 col3\" >0.880026</td>\n",
       "            </tr>\n",
       "            <tr>\n",
       "                        <th id=\"T_aac71578_7cb0_11ea_b680_b9159917ceaflevel0_row5\" class=\"row_heading level0 row5\" >('EfficientNetB4', 'EfficientNetAutoAttB4')</th>\n",
       "                        <td id=\"T_aac71578_7cb0_11ea_b680_b9159917ceafrow5_col0\" class=\"data row5 col0\" >0.356611</td>\n",
       "                        <td id=\"T_aac71578_7cb0_11ea_b680_b9159917ceafrow5_col1\" class=\"data row5 col1\" >0.942751</td>\n",
       "                        <td id=\"T_aac71578_7cb0_11ea_b680_b9159917ceafrow5_col2\" class=\"data row5 col2\" >0.473107</td>\n",
       "                        <td id=\"T_aac71578_7cb0_11ea_b680_b9159917ceafrow5_col3\" class=\"data row5 col3\" >0.878497</td>\n",
       "            </tr>\n",
       "            <tr>\n",
       "                        <th id=\"T_aac71578_7cb0_11ea_b680_b9159917ceaflevel0_row6\" class=\"row_heading level0 row6\" >('EfficientNetB4', 'EfficientNetAutoAttB4ST')</th>\n",
       "                        <td id=\"T_aac71578_7cb0_11ea_b680_b9159917ceafrow6_col0\" class=\"data row6 col0\" >0.336959</td>\n",
       "                        <td id=\"T_aac71578_7cb0_11ea_b680_b9159917ceafrow6_col1\" class=\"data row6 col1\" >0.942132</td>\n",
       "                        <td id=\"T_aac71578_7cb0_11ea_b680_b9159917ceafrow6_col2\" class=\"data row6 col2\" >0.473876</td>\n",
       "                        <td id=\"T_aac71578_7cb0_11ea_b680_b9159917ceafrow6_col3\" class=\"data row6 col3\" >0.872931</td>\n",
       "            </tr>\n",
       "            <tr>\n",
       "                        <th id=\"T_aac71578_7cb0_11ea_b680_b9159917ceaflevel0_row7\" class=\"row_heading level0 row7\" >('EfficientNetB4ST', 'EfficientNetAutoAttB4')</th>\n",
       "                        <td id=\"T_aac71578_7cb0_11ea_b680_b9159917ceafrow7_col0\" class=\"data row7 col0\" >0.337087</td>\n",
       "                        <td id=\"T_aac71578_7cb0_11ea_b680_b9159917ceafrow7_col1\" class=\"data row7 col1\" >0.942348</td>\n",
       "                        <td id=\"T_aac71578_7cb0_11ea_b680_b9159917ceafrow7_col2\" class=\"data row7 col2\" >0.476976</td>\n",
       "                        <td id=\"T_aac71578_7cb0_11ea_b680_b9159917ceafrow7_col3\" class=\"data row7 col3\" >0.876032</td>\n",
       "            </tr>\n",
       "            <tr>\n",
       "                        <th id=\"T_aac71578_7cb0_11ea_b680_b9159917ceaflevel0_row8\" class=\"row_heading level0 row8\" >('EfficientNetB4ST', 'EfficientNetAutoAttB4ST')</th>\n",
       "                        <td id=\"T_aac71578_7cb0_11ea_b680_b9159917ceafrow8_col0\" class=\"data row8 col0\" >0.328943</td>\n",
       "                        <td id=\"T_aac71578_7cb0_11ea_b680_b9159917ceafrow8_col1\" class=\"data row8 col1\" >0.939333</td>\n",
       "                        <td id=\"T_aac71578_7cb0_11ea_b680_b9159917ceafrow8_col2\" class=\"data row8 col2\" >0.497705</td>\n",
       "                        <td id=\"T_aac71578_7cb0_11ea_b680_b9159917ceafrow8_col3\" class=\"data row8 col3\" >0.864238</td>\n",
       "            </tr>\n",
       "            <tr>\n",
       "                        <th id=\"T_aac71578_7cb0_11ea_b680_b9159917ceaflevel0_row9\" class=\"row_heading level0 row9\" >('EfficientNetAutoAttB4', 'EfficientNetAutoAttB4ST')</th>\n",
       "                        <td id=\"T_aac71578_7cb0_11ea_b680_b9159917ceafrow9_col0\" class=\"data row9 col0\" >0.351464</td>\n",
       "                        <td id=\"T_aac71578_7cb0_11ea_b680_b9159917ceafrow9_col1\" class=\"data row9 col1\" >0.938966</td>\n",
       "                        <td id=\"T_aac71578_7cb0_11ea_b680_b9159917ceafrow9_col2\" class=\"data row9 col2\" >0.499701</td>\n",
       "                        <td id=\"T_aac71578_7cb0_11ea_b680_b9159917ceafrow9_col3\" class=\"data row9 col3\" >0.862528</td>\n",
       "            </tr>\n",
       "            <tr>\n",
       "                        <th id=\"T_aac71578_7cb0_11ea_b680_b9159917ceaflevel0_row10\" class=\"row_heading level0 row10\" >('EfficientNetB4', 'EfficientNetB4ST', 'EfficientNetAutoAttB4')</th>\n",
       "                        <td id=\"T_aac71578_7cb0_11ea_b680_b9159917ceafrow10_col0\" class=\"data row10 col0\" >0.337055</td>\n",
       "                        <td id=\"T_aac71578_7cb0_11ea_b680_b9159917ceafrow10_col1\" class=\"data row10 col1\" >0.944054</td>\n",
       "                        <td id=\"T_aac71578_7cb0_11ea_b680_b9159917ceafrow10_col2\" class=\"data row10 col2\" >0.463968</td>\n",
       "                        <td id=\"T_aac71578_7cb0_11ea_b680_b9159917ceafrow10_col3\" class=\"data row10 col3\" >0.881258</td>\n",
       "            </tr>\n",
       "            <tr>\n",
       "                        <th id=\"T_aac71578_7cb0_11ea_b680_b9159917ceaflevel0_row11\" class=\"row_heading level0 row11\" >('EfficientNetB4', 'EfficientNetB4ST', 'EfficientNetAutoAttB4ST')</th>\n",
       "                        <td id=\"T_aac71578_7cb0_11ea_b680_b9159917ceafrow11_col0\" class=\"data row11 col0\" >0.326901</td>\n",
       "                        <td id=\"T_aac71578_7cb0_11ea_b680_b9159917ceafrow11_col1\" class=\"data row11 col1\" >0.943215</td>\n",
       "                        <td id=\"T_aac71578_7cb0_11ea_b680_b9159917ceafrow11_col2\" class=\"data row11 col2\" >0.468428</td>\n",
       "                        <td id=\"T_aac71578_7cb0_11ea_b680_b9159917ceafrow11_col3\" class=\"data row11 col3\" >0.876897</td>\n",
       "            </tr>\n",
       "            <tr>\n",
       "                        <th id=\"T_aac71578_7cb0_11ea_b680_b9159917ceaflevel0_row12\" class=\"row_heading level0 row12\" >('EfficientNetB4', 'EfficientNetAutoAttB4', 'EfficientNetAutoAttB4ST')</th>\n",
       "                        <td id=\"T_aac71578_7cb0_11ea_b680_b9159917ceafrow12_col0\" class=\"data row12 col0\" >0.339929</td>\n",
       "                        <td id=\"T_aac71578_7cb0_11ea_b680_b9159917ceafrow12_col1\" class=\"data row12 col1\" >0.943344</td>\n",
       "                        <td id=\"T_aac71578_7cb0_11ea_b680_b9159917ceafrow12_col2\" class=\"data row12 col2\" >0.471724</td>\n",
       "                        <td id=\"T_aac71578_7cb0_11ea_b680_b9159917ceafrow12_col3\" class=\"data row12 col3\" >0.875146</td>\n",
       "            </tr>\n",
       "            <tr>\n",
       "                        <th id=\"T_aac71578_7cb0_11ea_b680_b9159917ceaflevel0_row13\" class=\"row_heading level0 row13\" >('EfficientNetB4ST', 'EfficientNetAutoAttB4', 'EfficientNetAutoAttB4ST')</th>\n",
       "                        <td id=\"T_aac71578_7cb0_11ea_b680_b9159917ceafrow13_col0\" class=\"data row13 col0\" >0.33043</td>\n",
       "                        <td id=\"T_aac71578_7cb0_11ea_b680_b9159917ceafrow13_col1\" class=\"data row13 col1\" >0.942617</td>\n",
       "                        <td id=\"T_aac71578_7cb0_11ea_b680_b9159917ceafrow13_col2\" class=\"data row13 col2\" >0.479994</td>\n",
       "                        <td id=\"T_aac71578_7cb0_11ea_b680_b9159917ceafrow13_col3\" class=\"data row13 col3\" >0.871876</td>\n",
       "            </tr>\n",
       "            <tr>\n",
       "                        <th id=\"T_aac71578_7cb0_11ea_b680_b9159917ceaflevel0_row14\" class=\"row_heading level0 row14\" >('EfficientNetB4', 'EfficientNetB4ST', 'EfficientNetAutoAttB4', 'EfficientNetAutoAttB4ST')</th>\n",
       "                        <td id=\"T_aac71578_7cb0_11ea_b680_b9159917ceafrow14_col0\" class=\"data row14 col0\" >0.32943</td>\n",
       "                        <td id=\"T_aac71578_7cb0_11ea_b680_b9159917ceafrow14_col1\" class=\"data row14 col1\" >0.944356</td>\n",
       "                        <td id=\"T_aac71578_7cb0_11ea_b680_b9159917ceafrow14_col2\" class=\"data row14 col2\" >0.46578</td>\n",
       "                        <td id=\"T_aac71578_7cb0_11ea_b680_b9159917ceafrow14_col3\" class=\"data row14 col3\" >0.878235</td>\n",
       "            </tr>\n",
       "    </tbody></table>"
      ],
      "text/plain": [
       "<pandas.io.formats.style.Styler at 0x7ffaea70aeb8>"
      ]
     },
     "execution_count": 15,
     "metadata": {},
     "output_type": "execute_result"
    }
   ],
   "source": [
    "results_df.T.style.apply(highlight_values)"
   ]
  },
  {
   "cell_type": "code",
   "execution_count": null,
   "metadata": {},
   "outputs": [],
   "source": []
  }
 ],
 "metadata": {
  "kernelspec": {
   "display_name": "Python 3",
   "language": "python",
   "name": "python3"
  },
  "language_info": {
   "codemirror_mode": {
    "name": "ipython",
    "version": 3
   },
   "file_extension": ".py",
   "mimetype": "text/x-python",
   "name": "python",
   "nbconvert_exporter": "python",
   "pygments_lexer": "ipython3",
   "version": "3.7.0"
  },
  "pycharm": {
   "stem_cell": {
    "cell_type": "raw",
    "source": [],
    "metadata": {
     "collapsed": false
    }
   }
  }
 },
 "nbformat": 4,
 "nbformat_minor": 4
}